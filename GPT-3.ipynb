{
 "cells": [
  {
   "cell_type": "code",
   "execution_count": 4,
   "id": "f46c9300",
   "metadata": {},
   "outputs": [],
   "source": [
    "!pip install surprisal"
   ]
  },
  {
   "cell_type": "code",
   "execution_count": 2,
   "id": "004f36c1",
   "metadata": {},
   "outputs": [],
   "source": [
    "import numpy as np\n",
    "import pandas as pd\n",
    "import re\n",
    "import codecs\n",
    "import ast\n",
    "import openai\n",
    "import json"
   ]
  },
  {
   "cell_type": "markdown",
   "id": "5dcb7edf",
   "metadata": {},
   "source": [
    "### get surprisal data from GPT-3 (pre-trained)"
   ]
  },
  {
   "cell_type": "code",
   "execution_count": 66,
   "id": "b6c3dcee",
   "metadata": {},
   "outputs": [
    {
     "name": "stdout",
     "output_type": "stream",
     "text": [
      "finished computing surprisals of 16 sentences\r\n"
     ]
    }
   ],
   "source": [
    "!python get_surprisal_data.py"
   ]
  },
  {
   "cell_type": "code",
   "execution_count": 97,
   "id": "ccd68bd3",
   "metadata": {},
   "outputs": [
    {
     "data": {
      "text/html": [
       "<div>\n",
       "<style scoped>\n",
       "    .dataframe tbody tr th:only-of-type {\n",
       "        vertical-align: middle;\n",
       "    }\n",
       "\n",
       "    .dataframe tbody tr th {\n",
       "        vertical-align: top;\n",
       "    }\n",
       "\n",
       "    .dataframe thead th {\n",
       "        text-align: right;\n",
       "    }\n",
       "</style>\n",
       "<table border=\"1\" class=\"dataframe\">\n",
       "  <thead>\n",
       "    <tr style=\"text-align: right;\">\n",
       "      <th></th>\n",
       "      <th>Unnamed: 0</th>\n",
       "      <th>tokens</th>\n",
       "      <th>surprisals</th>\n",
       "      <th>cond</th>\n",
       "    </tr>\n",
       "  </thead>\n",
       "  <tbody>\n",
       "    <tr>\n",
       "      <th>0</th>\n",
       "      <td>0</td>\n",
       "      <td>['bytes:\\\\xe6', 'bytes:\\\\x9b', 'bytes:\\\\xb8', ...</td>\n",
       "      <td>[ 6.6900610e+00  3.7060520e+00  2.8116540e+00 ...</td>\n",
       "      <td>island</td>\n",
       "    </tr>\n",
       "    <tr>\n",
       "      <th>1</th>\n",
       "      <td>1</td>\n",
       "      <td>['bytes:\\\\xe7', 'bytes:\\\\x99', 'bytes:\\\\xba', ...</td>\n",
       "      <td>[ 6.1963797e+00  3.6777165e+00  2.4309633e+00 ...</td>\n",
       "      <td>island</td>\n",
       "    </tr>\n",
       "    <tr>\n",
       "      <th>2</th>\n",
       "      <td>2</td>\n",
       "      <td>['bytes:\\\\xe8', 'bytes:\\\\xb3', 'bytes:\\\\xbc', ...</td>\n",
       "      <td>[ 6.75180630e+00  4.79560570e+00  1.80590090e+...</td>\n",
       "      <td>island</td>\n",
       "    </tr>\n",
       "    <tr>\n",
       "      <th>3</th>\n",
       "      <td>3</td>\n",
       "      <td>['bytes:\\\\xe6', 'bytes:\\\\xbc', 'bytes:\\\\x94', ...</td>\n",
       "      <td>[ 6.69303660e+00  5.31987900e+00  1.33068450e+...</td>\n",
       "      <td>island</td>\n",
       "    </tr>\n",
       "    <tr>\n",
       "      <th>4</th>\n",
       "      <td>4</td>\n",
       "      <td>['bytes:\\\\xe9\\\\x96', 'bytes:\\\\x8b', 'bytes:\\\\x...</td>\n",
       "      <td>[1.1540866e+01 9.3011490e-01 1.7977983e+00 6.2...</td>\n",
       "      <td>island</td>\n",
       "    </tr>\n",
       "    <tr>\n",
       "      <th>5</th>\n",
       "      <td>5</td>\n",
       "      <td>['デ', 'ザ', 'イ', 'ン', 'し', 'た', 'ド', 'レ', 'ス', ...</td>\n",
       "      <td>[ 1.2742895e+01  2.4567206e+00  2.5391560e-02 ...</td>\n",
       "      <td>island</td>\n",
       "    </tr>\n",
       "    <tr>\n",
       "      <th>6</th>\n",
       "      <td>6</td>\n",
       "      <td>['作', 'っ', 'た', 'bytes:\\\\xe6\\\\x97', 'bytes:\\\\x...</td>\n",
       "      <td>[ 1.0153272e+01  5.5638266e+00  6.2275780e-01 ...</td>\n",
       "      <td>island</td>\n",
       "    </tr>\n",
       "    <tr>\n",
       "      <th>7</th>\n",
       "      <td>7</td>\n",
       "      <td>['bytes:\\\\xe5\\\\x8f', 'bytes:\\\\x97', 'bytes:\\\\x...</td>\n",
       "      <td>[8.43501700e+00 3.05482130e+00 2.86327270e+00 ...</td>\n",
       "      <td>island</td>\n",
       "    </tr>\n",
       "    <tr>\n",
       "      <th>8</th>\n",
       "      <td>8</td>\n",
       "      <td>['bytes:\\\\xe6', 'bytes:\\\\x9b', 'bytes:\\\\xb8', ...</td>\n",
       "      <td>[ 6.6882844e+00  3.7083158e+00  2.8085725e+00 ...</td>\n",
       "      <td>non-island</td>\n",
       "    </tr>\n",
       "    <tr>\n",
       "      <th>9</th>\n",
       "      <td>9</td>\n",
       "      <td>['bytes:\\\\xe7', 'bytes:\\\\x99', 'bytes:\\\\xba', ...</td>\n",
       "      <td>[ 6.1981072e+00  3.6763346e+00  2.4333370e+00 ...</td>\n",
       "      <td>non-island</td>\n",
       "    </tr>\n",
       "    <tr>\n",
       "      <th>10</th>\n",
       "      <td>10</td>\n",
       "      <td>['bytes:\\\\xe8', 'bytes:\\\\xb3', 'bytes:\\\\xbc', ...</td>\n",
       "      <td>[ 6.7505640e+00  4.7961660e+00  1.8196181e+00 ...</td>\n",
       "      <td>non-island</td>\n",
       "    </tr>\n",
       "    <tr>\n",
       "      <th>11</th>\n",
       "      <td>11</td>\n",
       "      <td>['bytes:\\\\xe6', 'bytes:\\\\xbc', 'bytes:\\\\x94', ...</td>\n",
       "      <td>[ 6.6966023e+00  5.3213706e+00  1.3362492e+00 ...</td>\n",
       "      <td>non-island</td>\n",
       "    </tr>\n",
       "    <tr>\n",
       "      <th>12</th>\n",
       "      <td>12</td>\n",
       "      <td>['bytes:\\\\xe9\\\\x96', 'bytes:\\\\x8b', 'bytes:\\\\x...</td>\n",
       "      <td>[ 1.1541961e+01  9.2923295e-01  1.8004395e+00 ...</td>\n",
       "      <td>non-island</td>\n",
       "    </tr>\n",
       "    <tr>\n",
       "      <th>13</th>\n",
       "      <td>13</td>\n",
       "      <td>['デ', 'ザ', 'イ', 'ン', 'し', 'た', 'ド', 'レ', 'ス', ...</td>\n",
       "      <td>[ 1.2742700e+01  2.4559014e+00  2.5388260e-02 ...</td>\n",
       "      <td>non-island</td>\n",
       "    </tr>\n",
       "    <tr>\n",
       "      <th>14</th>\n",
       "      <td>14</td>\n",
       "      <td>['作', 'っ', 'た', 'bytes:\\\\xe6\\\\x97', 'bytes:\\\\x...</td>\n",
       "      <td>[ 1.01521435e+01  5.56114500e+00  6.23078100e-...</td>\n",
       "      <td>non-island</td>\n",
       "    </tr>\n",
       "    <tr>\n",
       "      <th>15</th>\n",
       "      <td>15</td>\n",
       "      <td>['bytes:\\\\xe5\\\\x8f', 'bytes:\\\\x97', 'bytes:\\\\x...</td>\n",
       "      <td>[8.4330930e+00 3.0369978e+00 2.8601058e+00 1.2...</td>\n",
       "      <td>non-island</td>\n",
       "    </tr>\n",
       "  </tbody>\n",
       "</table>\n",
       "</div>"
      ],
      "text/plain": [
       "    Unnamed: 0                                             tokens  \\\n",
       "0            0  ['bytes:\\\\xe6', 'bytes:\\\\x9b', 'bytes:\\\\xb8', ...   \n",
       "1            1  ['bytes:\\\\xe7', 'bytes:\\\\x99', 'bytes:\\\\xba', ...   \n",
       "2            2  ['bytes:\\\\xe8', 'bytes:\\\\xb3', 'bytes:\\\\xbc', ...   \n",
       "3            3  ['bytes:\\\\xe6', 'bytes:\\\\xbc', 'bytes:\\\\x94', ...   \n",
       "4            4  ['bytes:\\\\xe9\\\\x96', 'bytes:\\\\x8b', 'bytes:\\\\x...   \n",
       "5            5  ['デ', 'ザ', 'イ', 'ン', 'し', 'た', 'ド', 'レ', 'ス', ...   \n",
       "6            6  ['作', 'っ', 'た', 'bytes:\\\\xe6\\\\x97', 'bytes:\\\\x...   \n",
       "7            7  ['bytes:\\\\xe5\\\\x8f', 'bytes:\\\\x97', 'bytes:\\\\x...   \n",
       "8            8  ['bytes:\\\\xe6', 'bytes:\\\\x9b', 'bytes:\\\\xb8', ...   \n",
       "9            9  ['bytes:\\\\xe7', 'bytes:\\\\x99', 'bytes:\\\\xba', ...   \n",
       "10          10  ['bytes:\\\\xe8', 'bytes:\\\\xb3', 'bytes:\\\\xbc', ...   \n",
       "11          11  ['bytes:\\\\xe6', 'bytes:\\\\xbc', 'bytes:\\\\x94', ...   \n",
       "12          12  ['bytes:\\\\xe9\\\\x96', 'bytes:\\\\x8b', 'bytes:\\\\x...   \n",
       "13          13  ['デ', 'ザ', 'イ', 'ン', 'し', 'た', 'ド', 'レ', 'ス', ...   \n",
       "14          14  ['作', 'っ', 'た', 'bytes:\\\\xe6\\\\x97', 'bytes:\\\\x...   \n",
       "15          15  ['bytes:\\\\xe5\\\\x8f', 'bytes:\\\\x97', 'bytes:\\\\x...   \n",
       "\n",
       "                                           surprisals        cond  \n",
       "0   [ 6.6900610e+00  3.7060520e+00  2.8116540e+00 ...      island  \n",
       "1   [ 6.1963797e+00  3.6777165e+00  2.4309633e+00 ...      island  \n",
       "2   [ 6.75180630e+00  4.79560570e+00  1.80590090e+...      island  \n",
       "3   [ 6.69303660e+00  5.31987900e+00  1.33068450e+...      island  \n",
       "4   [1.1540866e+01 9.3011490e-01 1.7977983e+00 6.2...      island  \n",
       "5   [ 1.2742895e+01  2.4567206e+00  2.5391560e-02 ...      island  \n",
       "6   [ 1.0153272e+01  5.5638266e+00  6.2275780e-01 ...      island  \n",
       "7   [8.43501700e+00 3.05482130e+00 2.86327270e+00 ...      island  \n",
       "8   [ 6.6882844e+00  3.7083158e+00  2.8085725e+00 ...  non-island  \n",
       "9   [ 6.1981072e+00  3.6763346e+00  2.4333370e+00 ...  non-island  \n",
       "10  [ 6.7505640e+00  4.7961660e+00  1.8196181e+00 ...  non-island  \n",
       "11  [ 6.6966023e+00  5.3213706e+00  1.3362492e+00 ...  non-island  \n",
       "12  [ 1.1541961e+01  9.2923295e-01  1.8004395e+00 ...  non-island  \n",
       "13  [ 1.2742700e+01  2.4559014e+00  2.5388260e-02 ...  non-island  \n",
       "14  [ 1.01521435e+01  5.56114500e+00  6.23078100e-...  non-island  \n",
       "15  [8.4330930e+00 3.0369978e+00 2.8601058e+00 1.2...  non-island  "
      ]
     },
     "execution_count": 97,
     "metadata": {},
     "output_type": "execute_result"
    }
   ],
   "source": [
    "df = pd.read_csv('raw_data.csv')\n",
    "df"
   ]
  },
  {
   "cell_type": "markdown",
   "id": "302373c4",
   "metadata": {},
   "source": [
    "### Convert bytes to characters"
   ]
  },
  {
   "cell_type": "code",
   "execution_count": 99,
   "id": "74e0c970",
   "metadata": {},
   "outputs": [],
   "source": [
    "def decode_tokens(tokens, surprisals):\n",
    "    tokens_new = []\n",
    "    surprisals_new = []\n",
    "    current_ix = -1\n",
    "    ix_to_skip = []\n",
    "\n",
    "    for to, su in zip(tokens, surprisals):\n",
    "        current_ix += 1\n",
    "        if len(to.split('\\\\'))==1:\n",
    "            tokens_new.append(to)\n",
    "            surprisals_new.append(su)\n",
    "        elif len(to.split('\\\\'))==2:\n",
    "            if len(tokens[current_ix+1].split('\\\\'))==2 and len(tokens[current_ix+2].split('\\\\'))==2 and current_ix not in ix_to_skip:\n",
    "                byte_str = '\\\\' + '\\\\'.join([to.split('\\\\')[1], tokens[current_ix+1].split('\\\\')[1], tokens[current_ix+2].split('\\\\')[1]])\n",
    "                converted = codecs.escape_decode(byte_str)[0].decode('utf8')\n",
    "                tokens_new.append(converted)\n",
    "                mean_su = (su + surprisals[current_ix+1] + surprisals[current_ix+2]) / 3\n",
    "                surprisals_new.append(mean_su)\n",
    "                ix_to_skip.extend([current_ix+1, current_ix+2])\n",
    "            else:\n",
    "                continue\n",
    "        elif len(to.split('\\\\'))==3:\n",
    "            byte_str = '\\\\' + '\\\\'.join([to.split('\\\\')[1], to.split('\\\\')[2], tokens[current_ix+1].split('\\\\')[1]])\n",
    "            converted = codecs.escape_decode(byte_str)[0].decode('utf8')\n",
    "            tokens_new.append(converted)\n",
    "            mean_su = (su + surprisals[current_ix+1]) / 2\n",
    "            surprisals_new.append(mean_su)\n",
    "            ix_to_skip.extend([current_ix+1])\n",
    "        elif len(to.split('\\\\'))==4:\n",
    "            byte_str = '\\\\' + '\\\\'.join([to.split('\\\\')[1], to.split('\\\\')[2], to.split('\\\\')[3]])\n",
    "            converted = codecs.escape_decode(byte_str)[0].decode('utf8')\n",
    "            tokens_new.append(converted)\n",
    "            surprisals_new.append(su)\n",
    "\n",
    "    return tokens_new, surprisals_new"
   ]
  },
  {
   "cell_type": "code",
   "execution_count": 99,
   "id": "3d68ff73",
   "metadata": {},
   "outputs": [
    {
     "data": {
      "text/html": [
       "<div>\n",
       "<style scoped>\n",
       "    .dataframe tbody tr th:only-of-type {\n",
       "        vertical-align: middle;\n",
       "    }\n",
       "\n",
       "    .dataframe tbody tr th {\n",
       "        vertical-align: top;\n",
       "    }\n",
       "\n",
       "    .dataframe thead th {\n",
       "        text-align: right;\n",
       "    }\n",
       "</style>\n",
       "<table border=\"1\" class=\"dataframe\">\n",
       "  <thead>\n",
       "    <tr style=\"text-align: right;\">\n",
       "      <th></th>\n",
       "      <th>tokens</th>\n",
       "      <th>surprisals</th>\n",
       "      <th>island</th>\n",
       "    </tr>\n",
       "  </thead>\n",
       "  <tbody>\n",
       "    <tr>\n",
       "      <th>0</th>\n",
       "      <td>書</td>\n",
       "      <td>4.402589</td>\n",
       "      <td>island</td>\n",
       "    </tr>\n",
       "    <tr>\n",
       "      <th>0</th>\n",
       "      <td>い</td>\n",
       "      <td>3.098066</td>\n",
       "      <td>island</td>\n",
       "    </tr>\n",
       "    <tr>\n",
       "      <th>0</th>\n",
       "      <td>た</td>\n",
       "      <td>1.065531</td>\n",
       "      <td>island</td>\n",
       "    </tr>\n",
       "    <tr>\n",
       "      <th>0</th>\n",
       "      <td>エ</td>\n",
       "      <td>8.526271</td>\n",
       "      <td>island</td>\n",
       "    </tr>\n",
       "    <tr>\n",
       "      <th>0</th>\n",
       "      <td>ッ</td>\n",
       "      <td>3.613167</td>\n",
       "      <td>island</td>\n",
       "    </tr>\n",
       "    <tr>\n",
       "      <th>0</th>\n",
       "      <td>セ</td>\n",
       "      <td>0.027428</td>\n",
       "      <td>island</td>\n",
       "    </tr>\n",
       "    <tr>\n",
       "      <th>0</th>\n",
       "      <td>ー</td>\n",
       "      <td>2.039104</td>\n",
       "      <td>island</td>\n",
       "    </tr>\n",
       "    <tr>\n",
       "      <th>0</th>\n",
       "      <td>が</td>\n",
       "      <td>7.167349</td>\n",
       "      <td>island</td>\n",
       "    </tr>\n",
       "    <tr>\n",
       "      <th>0</th>\n",
       "      <td>権</td>\n",
       "      <td>3.228217</td>\n",
       "      <td>island</td>\n",
       "    </tr>\n",
       "    <tr>\n",
       "      <th>0</th>\n",
       "      <td>威</td>\n",
       "      <td>0.426591</td>\n",
       "      <td>island</td>\n",
       "    </tr>\n",
       "  </tbody>\n",
       "</table>\n",
       "</div>"
      ],
      "text/plain": [
       "  tokens surprisals  island\n",
       "0      書   4.402589  island\n",
       "0      い   3.098066  island\n",
       "0      た   1.065531  island\n",
       "0      エ   8.526271  island\n",
       "0      ッ   3.613167  island\n",
       "0      セ   0.027428  island\n",
       "0      ー   2.039104  island\n",
       "0      が   7.167349  island\n",
       "0      権   3.228217  island\n",
       "0      威   0.426591  island"
      ]
     },
     "execution_count": 99,
     "metadata": {},
     "output_type": "execute_result"
    }
   ],
   "source": [
    "dat_new = []\n",
    "\n",
    "for _, row in df.iterrows():\n",
    "    surps = [x.replace('[','').replace(']','') for x in row['surprisals'].split(' ')]\n",
    "    surps = [float(x.strip()) for x in surps if x != '']\n",
    "    tokens_new, surprisals_new = decode_tokens(ast.literal_eval(row['tokens']), surps)\n",
    "    updated_dict = {'tokens':tokens_new, 'surprisals':surprisals_new, 'island':[row['cond']]*len(tokens_new)}\n",
    "    dat_new.append(updated_dict)\n",
    "\n",
    "df_new = pd.DataFrame(dat_new)\n",
    "df_new = df_new.explode(['tokens', 'surprisals', 'island'])\n",
    "\n",
    "df_new.head(10)"
   ]
  },
  {
   "cell_type": "code",
   "execution_count": 49,
   "id": "d286c82c",
   "metadata": {},
   "outputs": [],
   "source": [
    "df_new.to_csv('result_GPT3_pretrained.csv')"
   ]
  },
  {
   "cell_type": "code",
   "execution_count": 50,
   "id": "4916eeab",
   "metadata": {},
   "outputs": [
    {
     "data": {
      "text/plain": [
       "island\n",
       "island        2.422033\n",
       "non-island    2.823154\n",
       "Name: surprisals, dtype: float64"
      ]
     },
     "execution_count": 50,
     "metadata": {},
     "output_type": "execute_result"
    }
   ],
   "source": [
    "result_edited = pd.read_csv('result_GPT3_pretrained.csv')\n",
    "\n",
    "critical = result_edited[result_edited['critical_test']==1]\n",
    "critical.groupby('island')['surprisals'].mean()"
   ]
  },
  {
   "cell_type": "markdown",
   "id": "f3eb1e96",
   "metadata": {},
   "source": [
    "### get acceptability data from GPT-3 (pre-trained)"
   ]
  },
  {
   "cell_type": "code",
   "execution_count": 22,
   "id": "0c9f8719",
   "metadata": {},
   "outputs": [
    {
     "name": "stdout",
     "output_type": "stream",
     "text": [
      "Enter the secret value: ········\n"
     ]
    }
   ],
   "source": [
    "from getpass import getpass\n",
    "secret = getpass('Enter the secret value: ')"
   ]
  },
  {
   "cell_type": "code",
   "execution_count": 23,
   "id": "05c4538e",
   "metadata": {},
   "outputs": [],
   "source": [
    "openai.api_key = secret"
   ]
  },
  {
   "cell_type": "code",
   "execution_count": 5,
   "id": "3f01d9c9",
   "metadata": {},
   "outputs": [
    {
     "data": {
      "text/plain": [
       "'文章: 人気を博した舞台での踊りだけ方を努力家のダンサーは上達させた。\\n評価: この文章は文法的ではありません。\\n###\\n文章: 熱血な教師が落ちこぼれの生徒を名門大学に合格させた。\\n評価: この文章は文法的です。\\n###\\n文章: 保育士が正直な子どもが親が嘘をついたと言ったと思っている。\\n評価: この文章は文法的ですが、複雑です。\\n###\\n文章: その農家の必死に育てた農作物の畑の腐られ方は大変気の毒だ。\\n評価: この文章は文法的ではありません。\\n###\\n文章: 経験の浅い一年生が新人戦で三人走った。\\n評価: この文章は文法的ですが、複雑です。\\n###\\n文章: '"
      ]
     },
     "execution_count": 5,
     "metadata": {},
     "output_type": "execute_result"
    }
   ],
   "source": [
    "with open('prompt.txt', 'r') as f:\n",
    "    test_prompt = f.read()\n",
    "test_prompt"
   ]
  },
  {
   "cell_type": "code",
   "execution_count": 20,
   "id": "a054b1dc",
   "metadata": {},
   "outputs": [
    {
     "data": {
      "text/html": [
       "<div>\n",
       "<style scoped>\n",
       "    .dataframe tbody tr th:only-of-type {\n",
       "        vertical-align: middle;\n",
       "    }\n",
       "\n",
       "    .dataframe tbody tr th {\n",
       "        vertical-align: top;\n",
       "    }\n",
       "\n",
       "    .dataframe thead th {\n",
       "        text-align: right;\n",
       "    }\n",
       "</style>\n",
       "<table border=\"1\" class=\"dataframe\">\n",
       "  <thead>\n",
       "    <tr style=\"text-align: right;\">\n",
       "      <th></th>\n",
       "      <th>island</th>\n",
       "      <th>sentence</th>\n",
       "    </tr>\n",
       "  </thead>\n",
       "  <tbody>\n",
       "    <tr>\n",
       "      <th>0</th>\n",
       "      <td>0</td>\n",
       "      <td>書いたエッセーが権威ある文学賞を受賞したので女性議員は感謝を述べた。</td>\n",
       "    </tr>\n",
       "    <tr>\n",
       "      <th>1</th>\n",
       "      <td>0</td>\n",
       "      <td>発表した論文が世界中の学者から注目されたので教授は多忙を極めた。</td>\n",
       "    </tr>\n",
       "    <tr>\n",
       "      <th>2</th>\n",
       "      <td>0</td>\n",
       "      <td>購入した絵画がピカソの作品だったので美術館長は展示会を計画した。</td>\n",
       "    </tr>\n",
       "    <tr>\n",
       "      <th>3</th>\n",
       "      <td>0</td>\n",
       "      <td>演じた芝居が連日チケットが完売したので役者は海外に招待された。</td>\n",
       "    </tr>\n",
       "    <tr>\n",
       "      <th>4</th>\n",
       "      <td>0</td>\n",
       "      <td>開発した新製品が今朝社外に発表されたので若手社員は誇りに思った。</td>\n",
       "    </tr>\n",
       "    <tr>\n",
       "      <th>5</th>\n",
       "      <td>0</td>\n",
       "      <td>デザインしたドレスが大勢の記者に取材されたので女優は自信を付けた。</td>\n",
       "    </tr>\n",
       "    <tr>\n",
       "      <th>6</th>\n",
       "      <td>0</td>\n",
       "      <td>作った日本酒が先月ガイドブックで特集されたので外国人は周りに認められた。</td>\n",
       "    </tr>\n",
       "    <tr>\n",
       "      <th>7</th>\n",
       "      <td>0</td>\n",
       "      <td>受けた難病の診断が今朝社内で公表されたので重役は引き継ぎを始めた。</td>\n",
       "    </tr>\n",
       "    <tr>\n",
       "      <th>8</th>\n",
       "      <td>1</td>\n",
       "      <td>書いたエッセーが権威ある文学賞を受賞した女性議員は感謝を述べた。</td>\n",
       "    </tr>\n",
       "    <tr>\n",
       "      <th>9</th>\n",
       "      <td>1</td>\n",
       "      <td>発表した論文が世界中の学者から注目された教授は多忙を極めた。</td>\n",
       "    </tr>\n",
       "    <tr>\n",
       "      <th>10</th>\n",
       "      <td>1</td>\n",
       "      <td>購入した絵画がピカソの作品だった美術館長は展示会を計画した。</td>\n",
       "    </tr>\n",
       "    <tr>\n",
       "      <th>11</th>\n",
       "      <td>1</td>\n",
       "      <td>演じた芝居が連日チケットが完売した役者は海外に招待された。</td>\n",
       "    </tr>\n",
       "    <tr>\n",
       "      <th>12</th>\n",
       "      <td>1</td>\n",
       "      <td>開発した新製品が今朝社外に発表された若手社員は誇りに思った。</td>\n",
       "    </tr>\n",
       "    <tr>\n",
       "      <th>13</th>\n",
       "      <td>1</td>\n",
       "      <td>デザインしたドレスが大勢の記者に取材された女優は自信を付けた。</td>\n",
       "    </tr>\n",
       "    <tr>\n",
       "      <th>14</th>\n",
       "      <td>1</td>\n",
       "      <td>作った日本酒が先月ガイドブックで特集された外国人は周りに認められた。</td>\n",
       "    </tr>\n",
       "    <tr>\n",
       "      <th>15</th>\n",
       "      <td>1</td>\n",
       "      <td>受けた難病の診断が今朝社内で公表された重役は引き継ぎを始めた。</td>\n",
       "    </tr>\n",
       "  </tbody>\n",
       "</table>\n",
       "</div>"
      ],
      "text/plain": [
       "    island                              sentence\n",
       "0        0    書いたエッセーが権威ある文学賞を受賞したので女性議員は感謝を述べた。\n",
       "1        0      発表した論文が世界中の学者から注目されたので教授は多忙を極めた。\n",
       "2        0      購入した絵画がピカソの作品だったので美術館長は展示会を計画した。\n",
       "3        0       演じた芝居が連日チケットが完売したので役者は海外に招待された。\n",
       "4        0      開発した新製品が今朝社外に発表されたので若手社員は誇りに思った。\n",
       "5        0     デザインしたドレスが大勢の記者に取材されたので女優は自信を付けた。\n",
       "6        0  作った日本酒が先月ガイドブックで特集されたので外国人は周りに認められた。\n",
       "7        0     受けた難病の診断が今朝社内で公表されたので重役は引き継ぎを始めた。\n",
       "8        1      書いたエッセーが権威ある文学賞を受賞した女性議員は感謝を述べた。\n",
       "9        1        発表した論文が世界中の学者から注目された教授は多忙を極めた。\n",
       "10       1        購入した絵画がピカソの作品だった美術館長は展示会を計画した。\n",
       "11       1         演じた芝居が連日チケットが完売した役者は海外に招待された。\n",
       "12       1        開発した新製品が今朝社外に発表された若手社員は誇りに思った。\n",
       "13       1       デザインしたドレスが大勢の記者に取材された女優は自信を付けた。\n",
       "14       1    作った日本酒が先月ガイドブックで特集された外国人は周りに認められた。\n",
       "15       1       受けた難病の診断が今朝社内で公表された重役は引き継ぎを始めた。"
      ]
     },
     "execution_count": 20,
     "metadata": {},
     "output_type": "execute_result"
    }
   ],
   "source": [
    "test_stimuli = pd.read_csv('test_stimuli_new.csv')\n",
    "test_stimuli"
   ]
  },
  {
   "cell_type": "code",
   "execution_count": 34,
   "id": "807ca748",
   "metadata": {},
   "outputs": [],
   "source": [
    "def GPT3_model(prompt):\n",
    "    response = openai.Completion.create(\n",
    "    engine=\"davinci\",\n",
    "    prompt=prompt,\n",
    "    max_tokens=50,\n",
    "    temperature=0.7,\n",
    "    top_p=1,\n",
    "    n=1,\n",
    "    stream=None)\n",
    "    return response"
   ]
  },
  {
   "cell_type": "code",
   "execution_count": 44,
   "id": "cc603d06",
   "metadata": {},
   "outputs": [],
   "source": [
    "judgments = []\n",
    "\n",
    "for sent in test_stimuli['sentence'].tolist():\n",
    "    prompt = test_prompt + sent + '\\n' + '評価: '\n",
    "    response = GPT3_model(prompt)\n",
    "    judgment = response['choices'][0]['text'].split('\\n')[0]\n",
    "    judgments.append(judgment)\n",
    "\n",
    "test_stimuli['judgment'] = judgments\n",
    "test_stimuli.head()"
   ]
  },
  {
   "cell_type": "markdown",
   "id": "305f4b2d",
   "metadata": {},
   "source": [
    "### finetuning"
   ]
  },
  {
   "cell_type": "code",
   "execution_count": 53,
   "id": "c3007988",
   "metadata": {},
   "outputs": [],
   "source": [
    "finetuning_data = pd.read_csv('finetuning_stimuli_gpt3.csv')"
   ]
  },
  {
   "cell_type": "code",
   "execution_count": 55,
   "id": "4757d4bd",
   "metadata": {},
   "outputs": [],
   "source": [
    "finetuning_data_dict = []\n",
    "for _, row in finetuning_data.iterrows():\n",
    "    finetuning_data_dict.append({'prompt':row['prompt'], 'completion':row['completion']})\n",
    "finetuning_data_dict"
   ]
  },
  {
   "cell_type": "code",
   "execution_count": 61,
   "id": "cc23945d",
   "metadata": {},
   "outputs": [],
   "source": [
    "with open(\"finetuning_data.json\", 'w') as f:\n",
    "    for item in finetuning_data_dict:\n",
    "        #f.write(json.dumps(item) + \"\\n\")\n",
    "        f.write(json.dumps(item, ensure_ascii=False) + \"\\n\")"
   ]
  },
  {
   "cell_type": "markdown",
   "id": "97f083c9",
   "metadata": {},
   "source": [
    "![alt text](finetuning.png \"Title\")"
   ]
  },
  {
   "cell_type": "markdown",
   "id": "73d89345",
   "metadata": {},
   "source": [
    "### get surprisal data from GPT-3 (finetuned)"
   ]
  },
  {
   "cell_type": "code",
   "execution_count": 78,
   "id": "145cc790",
   "metadata": {},
   "outputs": [
    {
     "name": "stdout",
     "output_type": "stream",
     "text": [
      "finished computing surprisals of 16 sentences\r\n"
     ]
    }
   ],
   "source": [
    "!python get_surprisal_data.py"
   ]
  },
  {
   "cell_type": "code",
   "execution_count": 98,
   "id": "b35919e0",
   "metadata": {},
   "outputs": [],
   "source": [
    "df = pd.read_csv('raw_data_ft.csv')"
   ]
  },
  {
   "cell_type": "code",
   "execution_count": 101,
   "id": "f1c3245c",
   "metadata": {},
   "outputs": [],
   "source": [
    "dat_new = []\n",
    "\n",
    "for i, row in df.iterrows():\n",
    "    surps = [x.replace('[','').replace(']','') for x in row['surprisals'].split(' ')]\n",
    "    surps = [float(x.strip()) for x in surps if x != '']\n",
    "    tokens_new, surprisals_new = decode_tokens(ast.literal_eval(row['tokens']), surps)\n",
    "    updated_dict = {'tokens':tokens_new, 'surprisals':surprisals_new, 'island':[row['cond']]*len(tokens_new)}\n",
    "    dat_new.append(updated_dict)\n",
    "\n",
    "df_new = pd.DataFrame(dat_new)\n",
    "df_new = df_new.explode(['tokens', 'surprisals', 'island'])"
   ]
  },
  {
   "cell_type": "code",
   "execution_count": 102,
   "id": "5178bc80",
   "metadata": {},
   "outputs": [
    {
     "data": {
      "text/html": [
       "<div>\n",
       "<style scoped>\n",
       "    .dataframe tbody tr th:only-of-type {\n",
       "        vertical-align: middle;\n",
       "    }\n",
       "\n",
       "    .dataframe tbody tr th {\n",
       "        vertical-align: top;\n",
       "    }\n",
       "\n",
       "    .dataframe thead th {\n",
       "        text-align: right;\n",
       "    }\n",
       "</style>\n",
       "<table border=\"1\" class=\"dataframe\">\n",
       "  <thead>\n",
       "    <tr style=\"text-align: right;\">\n",
       "      <th></th>\n",
       "      <th>tokens</th>\n",
       "      <th>surprisals</th>\n",
       "      <th>island</th>\n",
       "    </tr>\n",
       "  </thead>\n",
       "  <tbody>\n",
       "    <tr>\n",
       "      <th>0</th>\n",
       "      <td>書</td>\n",
       "      <td>4.666651</td>\n",
       "      <td>non-island</td>\n",
       "    </tr>\n",
       "    <tr>\n",
       "      <th>0</th>\n",
       "      <td>い</td>\n",
       "      <td>2.363109</td>\n",
       "      <td>non-island</td>\n",
       "    </tr>\n",
       "    <tr>\n",
       "      <th>0</th>\n",
       "      <td>た</td>\n",
       "      <td>0.623235</td>\n",
       "      <td>non-island</td>\n",
       "    </tr>\n",
       "    <tr>\n",
       "      <th>0</th>\n",
       "      <td>エ</td>\n",
       "      <td>6.475675</td>\n",
       "      <td>non-island</td>\n",
       "    </tr>\n",
       "    <tr>\n",
       "      <th>0</th>\n",
       "      <td>ッ</td>\n",
       "      <td>1.872293</td>\n",
       "      <td>non-island</td>\n",
       "    </tr>\n",
       "    <tr>\n",
       "      <th>0</th>\n",
       "      <td>セ</td>\n",
       "      <td>0.210575</td>\n",
       "      <td>non-island</td>\n",
       "    </tr>\n",
       "    <tr>\n",
       "      <th>0</th>\n",
       "      <td>ー</td>\n",
       "      <td>3.064842</td>\n",
       "      <td>non-island</td>\n",
       "    </tr>\n",
       "    <tr>\n",
       "      <th>0</th>\n",
       "      <td>が</td>\n",
       "      <td>1.02555</td>\n",
       "      <td>non-island</td>\n",
       "    </tr>\n",
       "    <tr>\n",
       "      <th>0</th>\n",
       "      <td>権</td>\n",
       "      <td>3.237404</td>\n",
       "      <td>non-island</td>\n",
       "    </tr>\n",
       "    <tr>\n",
       "      <th>0</th>\n",
       "      <td>威</td>\n",
       "      <td>0.131714</td>\n",
       "      <td>non-island</td>\n",
       "    </tr>\n",
       "  </tbody>\n",
       "</table>\n",
       "</div>"
      ],
      "text/plain": [
       "  tokens surprisals      island\n",
       "0      書   4.666651  non-island\n",
       "0      い   2.363109  non-island\n",
       "0      た   0.623235  non-island\n",
       "0      エ   6.475675  non-island\n",
       "0      ッ   1.872293  non-island\n",
       "0      セ   0.210575  non-island\n",
       "0      ー   3.064842  non-island\n",
       "0      が    1.02555  non-island\n",
       "0      権   3.237404  non-island\n",
       "0      威   0.131714  non-island"
      ]
     },
     "execution_count": 102,
     "metadata": {},
     "output_type": "execute_result"
    }
   ],
   "source": [
    "df_new.head(10)"
   ]
  },
  {
   "cell_type": "code",
   "execution_count": 103,
   "id": "2fdd10c8",
   "metadata": {},
   "outputs": [],
   "source": [
    "df_new.to_csv('result_GPT3_finetuned.csv')"
   ]
  },
  {
   "cell_type": "code",
   "execution_count": 104,
   "id": "500b00fb",
   "metadata": {},
   "outputs": [
    {
     "data": {
      "text/plain": [
       "island\n",
       "island        1.613939\n",
       "non-island    1.939812\n",
       "Name: surprisals, dtype: float64"
      ]
     },
     "execution_count": 104,
     "metadata": {},
     "output_type": "execute_result"
    }
   ],
   "source": [
    "result_edited = pd.read_csv('result_GPT3_finetuned.csv')\n",
    "\n",
    "critical = result_edited[result_edited['critical']==1]\n",
    "critical.groupby('island')['surprisals'].mean()"
   ]
  },
  {
   "cell_type": "markdown",
   "id": "f1b90840",
   "metadata": {},
   "source": [
    "### get acceptability data from GPT-3 (finetuned)"
   ]
  },
  {
   "cell_type": "code",
   "execution_count": 3,
   "id": "669e168f",
   "metadata": {},
   "outputs": [],
   "source": [
    "test_stimuli = pd.read_csv('test_stimuli.csv')"
   ]
  },
  {
   "cell_type": "code",
   "execution_count": 6,
   "id": "4eed8227",
   "metadata": {},
   "outputs": [
    {
     "data": {
      "text/html": [
       "<div>\n",
       "<style scoped>\n",
       "    .dataframe tbody tr th:only-of-type {\n",
       "        vertical-align: middle;\n",
       "    }\n",
       "\n",
       "    .dataframe tbody tr th {\n",
       "        vertical-align: top;\n",
       "    }\n",
       "\n",
       "    .dataframe thead th {\n",
       "        text-align: right;\n",
       "    }\n",
       "</style>\n",
       "<table border=\"1\" class=\"dataframe\">\n",
       "  <thead>\n",
       "    <tr style=\"text-align: right;\">\n",
       "      <th></th>\n",
       "      <th>Unnamed: 0</th>\n",
       "      <th>island</th>\n",
       "      <th>sentence</th>\n",
       "      <th>judgment</th>\n",
       "      <th>judgment_en</th>\n",
       "      <th>judgment_ft</th>\n",
       "    </tr>\n",
       "  </thead>\n",
       "  <tbody>\n",
       "    <tr>\n",
       "      <th>11</th>\n",
       "      <td>11</td>\n",
       "      <td>1</td>\n",
       "      <td>演じた芝居が連日チケットが完売した役者は海外に招待された。</td>\n",
       "      <td>この文章は文法的です。</td>\n",
       "      <td>This sentence is grammatical.</td>\n",
       "      <td>ルビがきついです。この文章は文法的ですが、複雑です。</td>\n",
       "    </tr>\n",
       "    <tr>\n",
       "      <th>12</th>\n",
       "      <td>12</td>\n",
       "      <td>1</td>\n",
       "      <td>開発した新製品が今朝社外に発表された若手社員は誇りに思った。</td>\n",
       "      <td>この文章は文法的です。</td>\n",
       "      <td>This sentence is grammatical.</td>\n",
       "      <td>主語は文法的ですが、複雑です。この文章は文法的ですが、複雑です。この文</td>\n",
       "    </tr>\n",
       "    <tr>\n",
       "      <th>13</th>\n",
       "      <td>13</td>\n",
       "      <td>1</td>\n",
       "      <td>デザインしたドレスが大勢の記者に取材された女優は自信を付けた。</td>\n",
       "      <td>この文章は文法的です。</td>\n",
       "      <td>This sentence is grammatical.</td>\n",
       "      <td>人物が主語を修飾しています。この文章は文法的ですが、複雑です。この文章は</td>\n",
       "    </tr>\n",
       "    <tr>\n",
       "      <th>14</th>\n",
       "      <td>14</td>\n",
       "      <td>1</td>\n",
       "      <td>作った日本酒が先月ガイドブックで特集された外国人は周りに認められた。</td>\n",
       "      <td>この文章は文法的です。</td>\n",
       "      <td>This sentence is grammatical.</td>\n",
       "      <td>主語は特殊です。この文章は文法的ではありません。この文章は複雑です。</td>\n",
       "    </tr>\n",
       "    <tr>\n",
       "      <th>15</th>\n",
       "      <td>15</td>\n",
       "      <td>1</td>\n",
       "      <td>受けた難病の診断が今朝社内で公表された重役は引き継ぎを始めた。</td>\n",
       "      <td>この文章は文法的です。</td>\n",
       "      <td>This sentence is grammatical.</td>\n",
       "      <td>主語は文法的ですが、複雑です。</td>\n",
       "    </tr>\n",
       "  </tbody>\n",
       "</table>\n",
       "</div>"
      ],
      "text/plain": [
       "    Unnamed: 0  island                            sentence     judgment  \\\n",
       "11          11       1       演じた芝居が連日チケットが完売した役者は海外に招待された。  この文章は文法的です。   \n",
       "12          12       1      開発した新製品が今朝社外に発表された若手社員は誇りに思った。  この文章は文法的です。   \n",
       "13          13       1     デザインしたドレスが大勢の記者に取材された女優は自信を付けた。  この文章は文法的です。   \n",
       "14          14       1  作った日本酒が先月ガイドブックで特集された外国人は周りに認められた。  この文章は文法的です。   \n",
       "15          15       1     受けた難病の診断が今朝社内で公表された重役は引き継ぎを始めた。  この文章は文法的です。   \n",
       "\n",
       "                      judgment_en                           judgment_ft  \n",
       "11  This sentence is grammatical.            ルビがきついです。この文章は文法的ですが、複雑です。  \n",
       "12  This sentence is grammatical.   主語は文法的ですが、複雑です。この文章は文法的ですが、複雑です。この文  \n",
       "13  This sentence is grammatical.  人物が主語を修飾しています。この文章は文法的ですが、複雑です。この文章は  \n",
       "14  This sentence is grammatical.    主語は特殊です。この文章は文法的ではありません。この文章は複雑です。  \n",
       "15  This sentence is grammatical.                       主語は文法的ですが、複雑です。  "
      ]
     },
     "execution_count": 6,
     "metadata": {},
     "output_type": "execute_result"
    }
   ],
   "source": [
    "judgments_ft = []\n",
    "\n",
    "for sent in test_stimuli['sentence'].tolist():\n",
    "    prompt = test_prompt + sent + '\\n' + '評価: '\n",
    "    response = openai.Completion.create(\n",
    "    model='curie:ft-personal-2022-11-21-16-39-49',\n",
    "    prompt=prompt,\n",
    "    max_tokens=50)\n",
    "    judgment = response['choices'][0]['text'].split('\\n')[0]\n",
    "    judgments_ft.append(judgment)\n",
    "\n",
    "test_stimuli['judgment_ft'] = judgments_ft\n",
    "test_stimuli.tail()"
   ]
  },
  {
   "cell_type": "code",
   "execution_count": null,
   "id": "5189bb65",
   "metadata": {},
   "outputs": [],
   "source": []
  }
 ],
 "metadata": {
  "kernelspec": {
   "display_name": "Python 3 (ipykernel)",
   "language": "python",
   "name": "python3"
  },
  "language_info": {
   "codemirror_mode": {
    "name": "ipython",
    "version": 3
   },
   "file_extension": ".py",
   "mimetype": "text/x-python",
   "name": "python",
   "nbconvert_exporter": "python",
   "pygments_lexer": "ipython3",
   "version": "3.9.15"
  }
 },
 "nbformat": 4,
 "nbformat_minor": 5
}
